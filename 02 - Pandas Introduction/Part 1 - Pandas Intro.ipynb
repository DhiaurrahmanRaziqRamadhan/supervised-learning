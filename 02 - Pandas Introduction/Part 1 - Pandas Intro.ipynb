{
 "cells": [
  {
   "cell_type": "code",
   "execution_count": 19,
   "id": "b538935c",
   "metadata": {},
   "outputs": [],
   "source": [
    "import numpy as np\n",
    "import pandas as pd\n",
    "\n",
    "from luwiji.pandas import illustration"
   ]
  },
  {
   "cell_type": "markdown",
   "id": "d380aac4",
   "metadata": {},
   "source": [
    "# Membuat DataFrame"
   ]
  },
  {
   "cell_type": "code",
   "execution_count": 20,
   "id": "13f258f3",
   "metadata": {},
   "outputs": [
    {
     "data": {
      "text/html": [
       "<div>\n",
       "<style scoped>\n",
       "    .dataframe tbody tr th:only-of-type {\n",
       "        vertical-align: middle;\n",
       "    }\n",
       "\n",
       "    .dataframe tbody tr th {\n",
       "        vertical-align: top;\n",
       "    }\n",
       "\n",
       "    .dataframe thead th {\n",
       "        text-align: right;\n",
       "    }\n",
       "</style>\n",
       "<table border=\"1\" class=\"dataframe\">\n",
       "  <thead>\n",
       "    <tr style=\"text-align: right;\">\n",
       "      <th></th>\n",
       "      <th>a</th>\n",
       "      <th>b</th>\n",
       "      <th>c</th>\n",
       "    </tr>\n",
       "  </thead>\n",
       "  <tbody>\n",
       "    <tr>\n",
       "      <th>0</th>\n",
       "      <td>1</td>\n",
       "      <td>3</td>\n",
       "      <td>5</td>\n",
       "    </tr>\n",
       "    <tr>\n",
       "      <th>1</th>\n",
       "      <td>2</td>\n",
       "      <td>4</td>\n",
       "      <td>6</td>\n",
       "    </tr>\n",
       "    <tr>\n",
       "      <th>2</th>\n",
       "      <td>3</td>\n",
       "      <td>5</td>\n",
       "      <td>7</td>\n",
       "    </tr>\n",
       "  </tbody>\n",
       "</table>\n",
       "</div>"
      ],
      "text/plain": [
       "   a  b  c\n",
       "0  1  3  5\n",
       "1  2  4  6\n",
       "2  3  5  7"
      ]
     },
     "execution_count": 20,
     "metadata": {},
     "output_type": "execute_result"
    }
   ],
   "source": [
    "contoh_data = {\"a\":[1,2,3],\"b\":[3,4,5],\"c\":[5,6,7]}\n",
    "pd.DataFrame(contoh_data)"
   ]
  },
  {
   "cell_type": "markdown",
   "id": "4a791f7c",
   "metadata": {},
   "source": [
    "# Membaca data dari file"
   ]
  },
  {
   "cell_type": "code",
   "execution_count": 21,
   "id": "8301bee2",
   "metadata": {
    "scrolled": true
   },
   "outputs": [
    {
     "data": {
      "text/html": [
       "<div>\n",
       "<style scoped>\n",
       "    .dataframe tbody tr th:only-of-type {\n",
       "        vertical-align: middle;\n",
       "    }\n",
       "\n",
       "    .dataframe tbody tr th {\n",
       "        vertical-align: top;\n",
       "    }\n",
       "\n",
       "    .dataframe thead th {\n",
       "        text-align: right;\n",
       "    }\n",
       "</style>\n",
       "<table border=\"1\" class=\"dataframe\">\n",
       "  <thead>\n",
       "    <tr style=\"text-align: right;\">\n",
       "      <th></th>\n",
       "      <th>name</th>\n",
       "      <th>mfr</th>\n",
       "      <th>type</th>\n",
       "      <th>calories</th>\n",
       "      <th>protein</th>\n",
       "      <th>fat</th>\n",
       "      <th>sodium</th>\n",
       "      <th>fiber</th>\n",
       "      <th>carbo</th>\n",
       "      <th>sugars</th>\n",
       "      <th>potass</th>\n",
       "      <th>vitamins</th>\n",
       "      <th>shelf</th>\n",
       "      <th>weight</th>\n",
       "      <th>cups</th>\n",
       "      <th>rating</th>\n",
       "    </tr>\n",
       "  </thead>\n",
       "  <tbody>\n",
       "    <tr>\n",
       "      <th>0</th>\n",
       "      <td>100% Bran</td>\n",
       "      <td>N</td>\n",
       "      <td>C</td>\n",
       "      <td>70</td>\n",
       "      <td>4</td>\n",
       "      <td>1</td>\n",
       "      <td>130</td>\n",
       "      <td>10.0</td>\n",
       "      <td>5.0</td>\n",
       "      <td>6.0</td>\n",
       "      <td>280.0</td>\n",
       "      <td>FDA_25</td>\n",
       "      <td>3</td>\n",
       "      <td>1.0</td>\n",
       "      <td>0.33</td>\n",
       "      <td>68.402973</td>\n",
       "    </tr>\n",
       "    <tr>\n",
       "      <th>1</th>\n",
       "      <td>100% Natural Bran</td>\n",
       "      <td>Q</td>\n",
       "      <td>C</td>\n",
       "      <td>120</td>\n",
       "      <td>3</td>\n",
       "      <td>5</td>\n",
       "      <td>15</td>\n",
       "      <td>2.0</td>\n",
       "      <td>8.0</td>\n",
       "      <td>8.0</td>\n",
       "      <td>135.0</td>\n",
       "      <td>FDA_0</td>\n",
       "      <td>3</td>\n",
       "      <td>1.0</td>\n",
       "      <td>1.00</td>\n",
       "      <td>33.983679</td>\n",
       "    </tr>\n",
       "    <tr>\n",
       "      <th>2</th>\n",
       "      <td>All-Bran</td>\n",
       "      <td>K</td>\n",
       "      <td>C</td>\n",
       "      <td>70</td>\n",
       "      <td>4</td>\n",
       "      <td>1</td>\n",
       "      <td>260</td>\n",
       "      <td>9.0</td>\n",
       "      <td>7.0</td>\n",
       "      <td>5.0</td>\n",
       "      <td>320.0</td>\n",
       "      <td>FDA_25</td>\n",
       "      <td>3</td>\n",
       "      <td>1.0</td>\n",
       "      <td>0.33</td>\n",
       "      <td>59.425505</td>\n",
       "    </tr>\n",
       "    <tr>\n",
       "      <th>3</th>\n",
       "      <td>All-Bran with Extra Fiber</td>\n",
       "      <td>K</td>\n",
       "      <td>C</td>\n",
       "      <td>50</td>\n",
       "      <td>4</td>\n",
       "      <td>0</td>\n",
       "      <td>140</td>\n",
       "      <td>14.0</td>\n",
       "      <td>8.0</td>\n",
       "      <td>0.0</td>\n",
       "      <td>330.0</td>\n",
       "      <td>FDA_25</td>\n",
       "      <td>3</td>\n",
       "      <td>1.0</td>\n",
       "      <td>0.50</td>\n",
       "      <td>93.704912</td>\n",
       "    </tr>\n",
       "    <tr>\n",
       "      <th>4</th>\n",
       "      <td>Almond Delight</td>\n",
       "      <td>R</td>\n",
       "      <td>C</td>\n",
       "      <td>110</td>\n",
       "      <td>2</td>\n",
       "      <td>2</td>\n",
       "      <td>200</td>\n",
       "      <td>1.0</td>\n",
       "      <td>14.0</td>\n",
       "      <td>8.0</td>\n",
       "      <td>NaN</td>\n",
       "      <td>FDA_25</td>\n",
       "      <td>3</td>\n",
       "      <td>1.0</td>\n",
       "      <td>0.75</td>\n",
       "      <td>34.384843</td>\n",
       "    </tr>\n",
       "  </tbody>\n",
       "</table>\n",
       "</div>"
      ],
      "text/plain": [
       "                        name mfr type  calories  protein  fat  sodium  fiber  \\\n",
       "0                  100% Bran   N    C        70        4    1     130   10.0   \n",
       "1          100% Natural Bran   Q    C       120        3    5      15    2.0   \n",
       "2                   All-Bran   K    C        70        4    1     260    9.0   \n",
       "3  All-Bran with Extra Fiber   K    C        50        4    0     140   14.0   \n",
       "4             Almond Delight   R    C       110        2    2     200    1.0   \n",
       "\n",
       "   carbo  sugars  potass vitamins  shelf  weight  cups     rating  \n",
       "0    5.0     6.0   280.0   FDA_25      3     1.0  0.33  68.402973  \n",
       "1    8.0     8.0   135.0    FDA_0      3     1.0  1.00  33.983679  \n",
       "2    7.0     5.0   320.0   FDA_25      3     1.0  0.33  59.425505  \n",
       "3    8.0     0.0   330.0   FDA_25      3     1.0  0.50  93.704912  \n",
       "4   14.0     8.0     NaN   FDA_25      3     1.0  0.75  34.384843  "
      ]
     },
     "execution_count": 21,
     "metadata": {},
     "output_type": "execute_result"
    }
   ],
   "source": [
    "df = pd.read_csv(\"data/cereal.csv\")\n",
    "df.head()"
   ]
  },
  {
   "cell_type": "code",
   "execution_count": null,
   "id": "71b56675",
   "metadata": {},
   "outputs": [],
   "source": [
    "df.tail()"
   ]
  },
  {
   "cell_type": "code",
   "execution_count": null,
   "id": "565b0096",
   "metadata": {},
   "outputs": [],
   "source": [
    "df.columns"
   ]
  },
  {
   "cell_type": "code",
   "execution_count": null,
   "id": "46608bb4",
   "metadata": {},
   "outputs": [],
   "source": [
    "df.index"
   ]
  },
  {
   "cell_type": "code",
   "execution_count": null,
   "id": "2301d303",
   "metadata": {},
   "outputs": [],
   "source": [
    "df.shape"
   ]
  },
  {
   "cell_type": "code",
   "execution_count": null,
   "id": "b90f9e89",
   "metadata": {},
   "outputs": [],
   "source": [
    "illustration.nomenklatur"
   ]
  },
  {
   "cell_type": "markdown",
   "id": "89c2eabc",
   "metadata": {},
   "source": [
    "# Get columns dan rows "
   ]
  },
  {
   "cell_type": "code",
   "execution_count": null,
   "id": "39582ed0",
   "metadata": {},
   "outputs": [],
   "source": [
    "df.mfr.head()"
   ]
  },
  {
   "cell_type": "code",
   "execution_count": null,
   "id": "06382e6d",
   "metadata": {},
   "outputs": [],
   "source": [
    "df['mfr'].head() #biasanya digunakan jika ada spasi"
   ]
  },
  {
   "cell_type": "code",
   "execution_count": null,
   "id": "f17b1d57",
   "metadata": {},
   "outputs": [],
   "source": [
    "df[['name','mfr','calories']].head()"
   ]
  },
  {
   "cell_type": "code",
   "execution_count": null,
   "id": "55846a28",
   "metadata": {},
   "outputs": [],
   "source": [
    "df[['name','mfr','calories']][5:10]"
   ]
  },
  {
   "cell_type": "markdown",
   "id": "b6aad246",
   "metadata": {},
   "source": [
    "# Slicing menggunakan  .iloc dan .loc"
   ]
  },
  {
   "cell_type": "code",
   "execution_count": null,
   "id": "8c1f2830",
   "metadata": {},
   "outputs": [],
   "source": [
    "df.loc[1:4, \"type\":\"sugars\"] # slice menggunakan nama"
   ]
  },
  {
   "cell_type": "code",
   "execution_count": null,
   "id": "3a436cfa",
   "metadata": {},
   "outputs": [],
   "source": [
    "df.iloc[1:4, 3:5]"
   ]
  },
  {
   "cell_type": "code",
   "execution_count": null,
   "id": "31643aa0",
   "metadata": {},
   "outputs": [],
   "source": [
    "df.loc[1:4, [\"name\",\"fat\",\"rating\"]] # slice menggunakan nama"
   ]
  },
  {
   "cell_type": "code",
   "execution_count": null,
   "id": "7e04a3e7",
   "metadata": {},
   "outputs": [],
   "source": [
    "df.iloc[1:4, [2,6,8]]"
   ]
  },
  {
   "cell_type": "markdown",
   "id": "39110f55",
   "metadata": {},
   "source": [
    "### Mengganti kolom index"
   ]
  },
  {
   "cell_type": "code",
   "execution_count": null,
   "id": "83299e53",
   "metadata": {},
   "outputs": [],
   "source": [
    "df = pd.read_csv('data/cereal.csv', index_col=\"name\")\n",
    "df.head()"
   ]
  },
  {
   "cell_type": "code",
   "execution_count": null,
   "id": "d807f46d",
   "metadata": {},
   "outputs": [],
   "source": [
    "df.loc[\"All-Bran\":\"Bran Flakes\", \"calories\":\"shelf\"]"
   ]
  },
  {
   "cell_type": "code",
   "execution_count": null,
   "id": "ae4332ef",
   "metadata": {},
   "outputs": [],
   "source": [
    "df.iloc[5:10, 3:8]"
   ]
  },
  {
   "cell_type": "markdown",
   "id": "9fd8ed29",
   "metadata": {},
   "source": [
    "# DataFrame Summary"
   ]
  },
  {
   "cell_type": "markdown",
   "id": "7fb0c385",
   "metadata": {},
   "source": [
    "### Statistics"
   ]
  },
  {
   "cell_type": "code",
   "execution_count": null,
   "id": "3ab4cc89",
   "metadata": {},
   "outputs": [],
   "source": [
    "df.corr()"
   ]
  },
  {
   "cell_type": "code",
   "execution_count": null,
   "id": "4c1d2ebc",
   "metadata": {},
   "outputs": [],
   "source": [
    "df.describe().T"
   ]
  },
  {
   "cell_type": "markdown",
   "id": "06c2a132",
   "metadata": {},
   "source": [
    "### Count"
   ]
  },
  {
   "cell_type": "code",
   "execution_count": null,
   "id": "ed7c6e87",
   "metadata": {},
   "outputs": [],
   "source": [
    "df.info()"
   ]
  },
  {
   "cell_type": "code",
   "execution_count": null,
   "id": "449251fd",
   "metadata": {},
   "outputs": [],
   "source": [
    "df.mfr.value_counts()"
   ]
  },
  {
   "cell_type": "markdown",
   "id": "45e821ce",
   "metadata": {},
   "source": [
    "### unique"
   ]
  },
  {
   "cell_type": "code",
   "execution_count": null,
   "id": "1f1ece8f",
   "metadata": {},
   "outputs": [],
   "source": [
    "df.mfr.unique()"
   ]
  },
  {
   "cell_type": "code",
   "execution_count": null,
   "id": "29420989",
   "metadata": {},
   "outputs": [],
   "source": [
    "df.type.unique()"
   ]
  },
  {
   "cell_type": "code",
   "execution_count": null,
   "id": "070e13b5",
   "metadata": {},
   "outputs": [],
   "source": [
    "df.shelf.unique()"
   ]
  },
  {
   "cell_type": "code",
   "execution_count": null,
   "id": "d12727d4",
   "metadata": {},
   "outputs": [],
   "source": [
    "df.nunique()"
   ]
  },
  {
   "cell_type": "code",
   "execution_count": null,
   "id": "f2bd28f7",
   "metadata": {},
   "outputs": [],
   "source": [
    "df.calories"
   ]
  },
  {
   "cell_type": "markdown",
   "id": "a297ad2a",
   "metadata": {},
   "source": [
    "## Series"
   ]
  },
  {
   "cell_type": "code",
   "execution_count": null,
   "id": "7ecbf0a5",
   "metadata": {},
   "outputs": [],
   "source": [
    "df.rating.head()"
   ]
  },
  {
   "cell_type": "code",
   "execution_count": null,
   "id": "56227f6b",
   "metadata": {},
   "outputs": [],
   "source": [
    "df[[\"rating\"]]"
   ]
  },
  {
   "cell_type": "code",
   "execution_count": null,
   "id": "1a0d5f3e",
   "metadata": {},
   "outputs": [],
   "source": [
    "df.rating.mean()"
   ]
  },
  {
   "cell_type": "code",
   "execution_count": null,
   "id": "e2796d51",
   "metadata": {},
   "outputs": [],
   "source": [
    "df.rating.median()"
   ]
  },
  {
   "cell_type": "code",
   "execution_count": null,
   "id": "e512885a",
   "metadata": {},
   "outputs": [],
   "source": [
    "df.carbo.count()"
   ]
  },
  {
   "cell_type": "markdown",
   "id": "c3282fc0",
   "metadata": {},
   "source": [
    "# NaN Value"
   ]
  },
  {
   "cell_type": "markdown",
   "id": "24301436",
   "metadata": {},
   "source": [
    "NaN = Not a Number"
   ]
  },
  {
   "cell_type": "code",
   "execution_count": null,
   "id": "eb426e2e",
   "metadata": {},
   "outputs": [],
   "source": [
    "df.isna().sum()"
   ]
  },
  {
   "cell_type": "markdown",
   "id": "13f83cdb",
   "metadata": {},
   "source": [
    "### drop missing value"
   ]
  },
  {
   "cell_type": "code",
   "execution_count": null,
   "id": "e71d2a7c",
   "metadata": {},
   "outputs": [],
   "source": [
    "df.dropna().head()"
   ]
  },
  {
   "cell_type": "markdown",
   "id": "69147fb5",
   "metadata": {},
   "source": [
    "### impute missing value"
   ]
  },
  {
   "cell_type": "code",
   "execution_count": null,
   "id": "a73d1cf0",
   "metadata": {},
   "outputs": [],
   "source": [
    "df.fillna(\"==JCOp==\").head()"
   ]
  },
  {
   "cell_type": "code",
   "execution_count": null,
   "id": "02d38593",
   "metadata": {},
   "outputs": [],
   "source": [
    "df.fillna(df.mean(), inplace=True)\n",
    "df.head()"
   ]
  },
  {
   "cell_type": "markdown",
   "id": "68730e61",
   "metadata": {},
   "source": [
    "## Save to csv"
   ]
  },
  {
   "cell_type": "code",
   "execution_count": null,
   "id": "8ec805e0",
   "metadata": {},
   "outputs": [],
   "source": [
    "df.to_csv(\"data/cereal_imp.csv\", index_label='name')"
   ]
  }
 ],
 "metadata": {
  "kernelspec": {
   "display_name": "Python [conda env:jcopml] *",
   "language": "python",
   "name": "conda-env-jcopml-py"
  },
  "language_info": {
   "codemirror_mode": {
    "name": "ipython",
    "version": 3
   },
   "file_extension": ".py",
   "mimetype": "text/x-python",
   "name": "python",
   "nbconvert_exporter": "python",
   "pygments_lexer": "ipython3",
   "version": "3.9.0"
  }
 },
 "nbformat": 4,
 "nbformat_minor": 5
}
